{
 "cells": [
  {
   "cell_type": "code",
   "execution_count": 55,
   "metadata": {},
   "outputs": [],
   "source": [
    "import numpy\n",
    "from src import conv\n",
    "from src.optim.adam import Adam\n",
    "from src.optim.rmsprop import RMSprop\n",
    "from src.optim.sgd import SGD\n",
    "import matplotlib.pyplot as plt\n",
    "\n",
    "from . import weights"
   ]
  },
  {
   "cell_type": "code",
   "execution_count": 9,
   "metadata": {},
   "outputs": [
    {
     "name": "stdout",
     "output_type": "stream",
     "text": [
      "[9.32848656]\n"
     ]
    }
   ],
   "source": [
    "# Creating Convolution layers.\n",
    "in_array = numpy.array([1, 2, 3, 4, 5])\n",
    "kernel_1 = numpy.random.randn(3, 1)\n",
    "stride = 1\n",
    "padding_1 = 0 \n",
    "\n",
    "kernel_2 = numpy.random.randn(5, 1)\n",
    "padding_2 = 1\n",
    "\n",
    "out = conv.Conv1D(kernel=kernel_1, stride=stride, padding=padding_1)\n",
    "out_1 = out.forward(in_array=in_array)\n",
    "\n",
    "out2 = conv.Conv1D(kernel=kernel_2, stride=stride, padding=padding_2)\n",
    "out_2 = out.forward(in_array=out_1)\n",
    "\n",
    "print(out_2)"
   ]
  },
  {
   "cell_type": "code",
   "execution_count": 10,
   "metadata": {},
   "outputs": [
    {
     "data": {
      "text/plain": [
       "array([[0.1396748 , 0.98210635, 0.74829089],\n",
       "       [0.74611196, 0.20609327, 0.09939644],\n",
       "       [0.40853593, 0.8408422 , 0.57295537]])"
      ]
     },
     "execution_count": 10,
     "metadata": {},
     "output_type": "execute_result"
    }
   ],
   "source": [
    "# The following three cells are weight initialization techniques.\n",
    "shape = (3, 3)\n",
    "\n",
    "weights.uniform(shape)"
   ]
  },
  {
   "cell_type": "code",
   "execution_count": 11,
   "metadata": {},
   "outputs": [
    {
     "data": {
      "text/plain": [
       "array([[ 0.64659937,  0.2323725 , -0.33198808],\n",
       "       [-0.75841495, -0.48838695,  0.18441022],\n",
       "       [-0.77990545, -0.43763363,  0.77436081]])"
      ]
     },
     "execution_count": 11,
     "metadata": {},
     "output_type": "execute_result"
    }
   ],
   "source": [
    "weights.kaiming(shape)"
   ]
  },
  {
   "cell_type": "code",
   "execution_count": 12,
   "metadata": {},
   "outputs": [
    {
     "data": {
      "text/plain": [
       "array([[ 0.60467984,  0.2860973 , -0.29549778],\n",
       "       [-0.26148361,  0.47654738, -0.19266389],\n",
       "       [ 0.06218643, -0.70305784, -0.40863002]])"
      ]
     },
     "execution_count": 12,
     "metadata": {},
     "output_type": "execute_result"
    }
   ],
   "source": [
    "weights.glorot(shape)"
   ]
  },
  {
   "cell_type": "code",
   "execution_count": 20,
   "metadata": {},
   "outputs": [],
   "source": [
    "# Example 3: Adam Optimizer\n",
    "\n",
    "# For simplicity, we are defining and hardcoding the grad. \n",
    "def loss(x): \n",
    "    return 2*x**2+4*x+5\n",
    "def grad(x): \n",
    "    return 2*x+4\n",
    "\n",
    "def converge(w0, w1): \n",
    "    return (w0 == w1)"
   ]
  },
  {
   "cell_type": "code",
   "execution_count": 47,
   "metadata": {},
   "outputs": [
    {
     "name": "stdout",
     "output_type": "stream",
     "text": [
      "Converged after 3 iterations\n"
     ]
    }
   ],
   "source": [
    "w_0 = 0\n",
    "b_0 = 0\n",
    "\n",
    "adam = Adam()\n",
    "t = 2\n",
    "\n",
    "is_converged = False\n",
    "\n",
    "while not is_converged: \n",
    "    dw = grad(w_0)\n",
    "    db = grad(b_0)\n",
    "    \n",
    "    w_old = w_0\n",
    "    w_0, b_0 = adam.update(t, w=w_0, b=b_0, dw=dw, db=db)\n",
    "    \n",
    "    if converge(w_old, w_0): \n",
    "        print(f\"Converged after {t+1} iterations\")\n",
    "        break \n",
    "    else: \n",
    "        print(f\"Iteration: {t+1}, Weight: {w_0}\")\n",
    "        t+=1"
   ]
  },
  {
   "cell_type": "code",
   "execution_count": 50,
   "metadata": {},
   "outputs": [
    {
     "name": "stdout",
     "output_type": "stream",
     "text": [
      "Converged after 3 iterations\n"
     ]
    }
   ],
   "source": [
    "# Example 4: Using RMSprop \n",
    "rms = RMSprop()\n",
    "\n",
    "while not is_converged:\n",
    "    dw = grad(w_0)\n",
    "    db = grad(b_0)\n",
    "    \n",
    "    w_old = w_0\n",
    "    w_0, b_0 = rms.update(t, w=w_0, b=b_0, dw=dw, db=db)\n",
    "    \n",
    "    if converge(w_old, w_0): \n",
    "        print(f\"Converged after {t+1} iterations\")\n",
    "        break \n",
    "    else: \n",
    "        print(f\"Iteration: {t+1}, Weight: {w_0}\")\n",
    "        t+=1"
   ]
  },
  {
   "cell_type": "code",
   "execution_count": 1,
   "metadata": {},
   "outputs": [
    {
     "ename": "NameError",
     "evalue": "name 'numpy' is not defined",
     "output_type": "error",
     "traceback": [
      "\u001b[0;31m---------------------------------------------------------------------------\u001b[0m",
      "\u001b[0;31mNameError\u001b[0m                                 Traceback (most recent call last)",
      "Cell \u001b[0;32mIn[1], line 2\u001b[0m\n\u001b[1;32m      1\u001b[0m \u001b[38;5;66;03m# Example 5: Using SGD for Linear Regression\u001b[39;00m\n\u001b[0;32m----> 2\u001b[0m \u001b[43mnumpy\u001b[49m\u001b[38;5;241m.\u001b[39mrandom\u001b[38;5;241m.\u001b[39mseed(\u001b[38;5;241m0\u001b[39m)\n\u001b[1;32m      4\u001b[0m X \u001b[38;5;241m=\u001b[39m numpy\u001b[38;5;241m.\u001b[39mrandom\u001b[38;5;241m.\u001b[39mrand(\u001b[38;5;241m100\u001b[39m)\n\u001b[1;32m      5\u001b[0m y \u001b[38;5;241m=\u001b[39m \u001b[38;5;241m2\u001b[39m \u001b[38;5;241m*\u001b[39m X \u001b[38;5;241m+\u001b[39m \u001b[38;5;241m1\u001b[39m \u001b[38;5;241m+\u001b[39m numpy\u001b[38;5;241m.\u001b[39mrandom\u001b[38;5;241m.\u001b[39mrandn(\u001b[38;5;241m100\u001b[39m)\n",
      "\u001b[0;31mNameError\u001b[0m: name 'numpy' is not defined"
     ]
    }
   ],
   "source": [
    "# Example 5: Using SGD for Linear Regression\n",
    "numpy.random.seed(0)\n",
    "\n",
    "X = numpy.random.rand(100)\n",
    "y = 2 * X + 1 + numpy.random.randn(100)\n",
    "\n",
    "sgd = SGD()\n",
    "\n",
    "m, b, log, mse = sgd.update(X, y)\n",
    "\n",
    "plt.plot(mse)\n",
    "plt.xlabel('Epoch')\n",
    "plt.ylabel('MSE')\n",
    "plt.show()"
   ]
  }
 ],
 "metadata": {
  "kernelspec": {
   "display_name": "picograd",
   "language": "python",
   "name": "python3"
  },
  "language_info": {
   "codemirror_mode": {
    "name": "ipython",
    "version": 3
   },
   "file_extension": ".py",
   "mimetype": "text/x-python",
   "name": "python",
   "nbconvert_exporter": "python",
   "pygments_lexer": "ipython3",
   "version": "3.12.3"
  }
 },
 "nbformat": 4,
 "nbformat_minor": 2
}
